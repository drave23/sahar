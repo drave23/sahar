{
 "cells": [
  {
   "cell_type": "code",
   "execution_count": 93,
   "metadata": {},
   "outputs": [],
   "source": [
    "import pandas as pd\n",
    "import numpy as np"
   ]
  },
  {
   "cell_type": "code",
   "execution_count": 94,
   "metadata": {},
   "outputs": [
    {
     "data": {
      "text/plain": [
       "(1682, 24)"
      ]
     },
     "execution_count": 94,
     "metadata": {},
     "output_type": "execute_result"
    }
   ],
   "source": [
    "# lets explore movies.csv\n",
    "m_cols = ['movie_id','movie title','release date','video release date','IMDb URL'\n",
    "          ,'unknown','Action','Adventure','Animation','Childrens','Comedy',\n",
    "          'Crime','Documentary','Drama','Fantasy','Film-Noir','Horror','Musical','Mystery','Romance','Sci-Fi',\n",
    "        'Thriller','War','Western']\n",
    "data= pd.read_csv('C:/Users/rants/ml-100k/u.item',delimiter='|',names=m_cols,encoding='latin-1')\n",
    "data.shape"
   ]
  },
  {
   "cell_type": "code",
   "execution_count": 95,
   "metadata": {},
   "outputs": [
    {
     "data": {
      "text/plain": [
       "(943, 5)"
      ]
     },
     "execution_count": 95,
     "metadata": {},
     "output_type": "execute_result"
    }
   ],
   "source": [
    "#explore users\n",
    "u_cols = ['user_id','age','gender','occupation','zip_code']\n",
    "data_u = pd.read_csv('C:/Users/rants/ml-100k/u.user',delimiter='|',names=u_cols,encoding='latin-1')\n",
    "data_u.shape"
   ]
  },
  {
   "cell_type": "code",
   "execution_count": 96,
   "metadata": {},
   "outputs": [
    {
     "data": {
      "text/plain": [
       "(80000, 4)"
      ]
     },
     "execution_count": 96,
     "metadata": {},
     "output_type": "execute_result"
    }
   ],
   "source": [
    "#explore ratings\n",
    "r_cols = ['user_id','movie_id','rating','timestamp']\n",
    "data_r = pd.read_csv('C:/Users/rants/ml-100k/u1.base',delimiter='\\t',names=r_cols,encoding='latin-1')\n",
    "data_r.shape"
   ]
  },
  {
   "cell_type": "markdown",
   "metadata": {},
   "source": [
    "## Q2 - Section A"
   ]
  },
  {
   "cell_type": "code",
   "execution_count": 97,
   "metadata": {},
   "outputs": [
    {
     "data": {
      "text/html": [
       "<div>\n",
       "<style scoped>\n",
       "    .dataframe tbody tr th:only-of-type {\n",
       "        vertical-align: middle;\n",
       "    }\n",
       "\n",
       "    .dataframe tbody tr th {\n",
       "        vertical-align: top;\n",
       "    }\n",
       "\n",
       "    .dataframe thead th {\n",
       "        text-align: right;\n",
       "    }\n",
       "</style>\n",
       "<table border=\"1\" class=\"dataframe\">\n",
       "  <thead>\n",
       "    <tr style=\"text-align: right;\">\n",
       "      <th></th>\n",
       "      <th>movie_id</th>\n",
       "      <th>movie title</th>\n",
       "      <th>rating</th>\n",
       "    </tr>\n",
       "  </thead>\n",
       "  <tbody>\n",
       "    <tr>\n",
       "      <th>0</th>\n",
       "      <td>1500</td>\n",
       "      <td>Santa with Muscles (1996)</td>\n",
       "      <td>5.0</td>\n",
       "    </tr>\n",
       "    <tr>\n",
       "      <th>1</th>\n",
       "      <td>1201</td>\n",
       "      <td>Marlene Dietrich: Shadow and Light (1996)</td>\n",
       "      <td>5.0</td>\n",
       "    </tr>\n",
       "    <tr>\n",
       "      <th>2</th>\n",
       "      <td>1293</td>\n",
       "      <td>Star Kid (1997)</td>\n",
       "      <td>5.0</td>\n",
       "    </tr>\n",
       "  </tbody>\n",
       "</table>\n",
       "</div>"
      ],
      "text/plain": [
       "   movie_id                                 movie title  rating\n",
       "0      1500                   Santa with Muscles (1996)     5.0\n",
       "1      1201  Marlene Dietrich: Shadow and Light (1996)      5.0\n",
       "2      1293                             Star Kid (1997)     5.0"
      ]
     },
     "execution_count": 97,
     "metadata": {},
     "output_type": "execute_result"
    }
   ],
   "source": [
    "#merging two dataframes movies and ratings\n",
    "movie_data_ratings_data=data.merge(data_r,on = 'movie_id',how = 'inner')\n",
    "avg_movie_rating = movie_data_ratings_data.groupby(['movie_id', 'movie title'])['rating'].mean().sort_values(ascending=False).reset_index()\n",
    "# Q2 - section A\n",
    "best_rated_movies = avg_movie_rating.head(3)\n",
    "best_rated_movies"
   ]
  },
  {
   "cell_type": "markdown",
   "metadata": {},
   "source": [
    "## Q2 - section B"
   ]
  },
  {
   "cell_type": "code",
   "execution_count": 98,
   "metadata": {},
   "outputs": [
    {
     "data": {
      "text/html": [
       "<div>\n",
       "<style scoped>\n",
       "    .dataframe tbody tr th:only-of-type {\n",
       "        vertical-align: middle;\n",
       "    }\n",
       "\n",
       "    .dataframe tbody tr th {\n",
       "        vertical-align: top;\n",
       "    }\n",
       "\n",
       "    .dataframe thead th {\n",
       "        text-align: right;\n",
       "    }\n",
       "</style>\n",
       "<table border=\"1\" class=\"dataframe\">\n",
       "  <thead>\n",
       "    <tr style=\"text-align: right;\">\n",
       "      <th></th>\n",
       "      <th>movie_id</th>\n",
       "      <th>movie title</th>\n",
       "      <th># of ratings</th>\n",
       "    </tr>\n",
       "  </thead>\n",
       "  <tbody>\n",
       "    <tr>\n",
       "      <th>0</th>\n",
       "      <td>50</td>\n",
       "      <td>Star Wars (1977)</td>\n",
       "      <td>484</td>\n",
       "    </tr>\n",
       "    <tr>\n",
       "      <th>1</th>\n",
       "      <td>181</td>\n",
       "      <td>Return of the Jedi (1983)</td>\n",
       "      <td>422</td>\n",
       "    </tr>\n",
       "    <tr>\n",
       "      <th>2</th>\n",
       "      <td>258</td>\n",
       "      <td>Contact (1997)</td>\n",
       "      <td>402</td>\n",
       "    </tr>\n",
       "  </tbody>\n",
       "</table>\n",
       "</div>"
      ],
      "text/plain": [
       "   movie_id                movie title  # of ratings\n",
       "0        50           Star Wars (1977)           484\n",
       "1       181  Return of the Jedi (1983)           422\n",
       "2       258             Contact (1997)           402"
      ]
     },
     "execution_count": 98,
     "metadata": {},
     "output_type": "execute_result"
    }
   ],
   "source": [
    "#calculate most rated movie\n",
    "most_rated_movies = movie_data_ratings_data.groupby(['movie_id', 'movie title']).size().sort_values(ascending=False).reset_index()\n",
    "most_rated_movies.columns = ['movie_id','movie title', '# of ratings']\n",
    "most_rated_movies.head(3)"
   ]
  },
  {
   "cell_type": "markdown",
   "metadata": {},
   "source": [
    "## Q2 - section C"
   ]
  },
  {
   "cell_type": "code",
   "execution_count": 99,
   "metadata": {},
   "outputs": [
    {
     "data": {
      "text/html": [
       "<div>\n",
       "<style scoped>\n",
       "    .dataframe tbody tr th:only-of-type {\n",
       "        vertical-align: middle;\n",
       "    }\n",
       "\n",
       "    .dataframe tbody tr th {\n",
       "        vertical-align: top;\n",
       "    }\n",
       "\n",
       "    .dataframe thead th {\n",
       "        text-align: right;\n",
       "    }\n",
       "</style>\n",
       "<table border=\"1\" class=\"dataframe\">\n",
       "  <thead>\n",
       "    <tr style=\"text-align: right;\">\n",
       "      <th></th>\n",
       "      <th>movie_id</th>\n",
       "      <th>movie title</th>\n",
       "      <th>%</th>\n",
       "    </tr>\n",
       "  </thead>\n",
       "  <tbody>\n",
       "    <tr>\n",
       "      <th>1114</th>\n",
       "      <td>1599</td>\n",
       "      <td>Someone Else's America (1995)</td>\n",
       "      <td>1.0</td>\n",
       "    </tr>\n",
       "    <tr>\n",
       "      <th>1113</th>\n",
       "      <td>1500</td>\n",
       "      <td>Santa with Muscles (1996)</td>\n",
       "      <td>1.0</td>\n",
       "    </tr>\n",
       "    <tr>\n",
       "      <th>1112</th>\n",
       "      <td>1653</td>\n",
       "      <td>Entertaining Angels: The Dorothy Day Story (1996)</td>\n",
       "      <td>1.0</td>\n",
       "    </tr>\n",
       "  </tbody>\n",
       "</table>\n",
       "</div>"
      ],
      "text/plain": [
       "      movie_id                                        movie title    %\n",
       "1114      1599                      Someone Else's America (1995)  1.0\n",
       "1113      1500                          Santa with Muscles (1996)  1.0\n",
       "1112      1653  Entertaining Angels: The Dorothy Day Story (1996)  1.0"
      ]
     },
     "execution_count": 99,
     "metadata": {},
     "output_type": "execute_result"
    }
   ],
   "source": [
    "# calculate % rating above 4\n",
    "above_4_ratings_per_item = movie_data_ratings_data.loc[movie_data_ratings_data['rating'] > 4].groupby('movie_id').size().sort_values(ascending=False).reset_index()\n",
    "above_4_ratings_per_item.columns=['movie_id','# of ratings > 4']\n",
    "percentage_of_rating_greater_than_4 = pd.merge(most_rated_movies, above_4_ratings_per_item, on='movie_id')\n",
    "percentage_of_rating_greater_than_4['%'] = percentage_of_rating_greater_than_4['# of ratings > 4'] / percentage_of_rating_greater_than_4['# of ratings']\n",
    "result_c = percentage_of_rating_greater_than_4[['movie_id', 'movie title','%']].sort_values('%', ascending=False)\n",
    "result_c.head(3)"
   ]
  },
  {
   "cell_type": "markdown",
   "metadata": {},
   "source": [
    "## Q2 - section D"
   ]
  },
  {
   "cell_type": "code",
   "execution_count": 100,
   "metadata": {},
   "outputs": [
    {
     "data": {
      "text/html": [
       "<div>\n",
       "<style scoped>\n",
       "    .dataframe tbody tr th:only-of-type {\n",
       "        vertical-align: middle;\n",
       "    }\n",
       "\n",
       "    .dataframe tbody tr th {\n",
       "        vertical-align: top;\n",
       "    }\n",
       "\n",
       "    .dataframe thead th {\n",
       "        text-align: right;\n",
       "    }\n",
       "</style>\n",
       "<table border=\"1\" class=\"dataframe\">\n",
       "  <thead>\n",
       "    <tr style=\"text-align: right;\">\n",
       "      <th></th>\n",
       "      <th>movie_id</th>\n",
       "      <th>movie title</th>\n",
       "      <th>new metric</th>\n",
       "    </tr>\n",
       "  </thead>\n",
       "  <tbody>\n",
       "    <tr>\n",
       "      <th>0</th>\n",
       "      <td>50</td>\n",
       "      <td>Star Wars (1977)</td>\n",
       "      <td>4.359504</td>\n",
       "    </tr>\n",
       "    <tr>\n",
       "      <th>1</th>\n",
       "      <td>181</td>\n",
       "      <td>Return of the Jedi (1983)</td>\n",
       "      <td>3.496870</td>\n",
       "    </tr>\n",
       "    <tr>\n",
       "      <th>3</th>\n",
       "      <td>100</td>\n",
       "      <td>Fargo (1996)</td>\n",
       "      <td>3.351741</td>\n",
       "    </tr>\n",
       "  </tbody>\n",
       "</table>\n",
       "</div>"
      ],
      "text/plain": [
       "   movie_id                movie title  new metric\n",
       "0        50           Star Wars (1977)    4.359504\n",
       "1       181  Return of the Jedi (1983)    3.496870\n",
       "3       100               Fargo (1996)    3.351741"
      ]
     },
     "execution_count": 100,
     "metadata": {},
     "output_type": "execute_result"
    }
   ],
   "source": [
    "normalizeDF = most_rated_movies.merge(avg_movie_rating,on = 'movie_id',how = 'right')\n",
    "max_amount_of_ratings = most_rated_movies['# of ratings'][0]\n",
    "min_amount_of_ratings = most_rated_movies['# of ratings'][len(most_rated_movies)-1]\n",
    "normalizeDF['normalize amount of ratings'] = (most_rated_movies['# of ratings']-min_amount_of_ratings)/(max_amount_of_ratings-min_amount_of_ratings)\n",
    "normalizeDF['new metric'] = normalizeDF['normalize amount of ratings'] * normalizeDF['rating']\n",
    "normalizeDF2 = normalizeDF[['movie_id','movie title_x', 'new metric']]\n",
    "normalizeDF2.columns = ['movie_id','movie title','new metric']\n",
    "result_D = normalizeDF2.sort_values('new metric', ascending=False)\n",
    "result_D.head(3)"
   ]
  },
  {
   "cell_type": "markdown",
   "metadata": {},
   "source": [
    "## Q2 - section E"
   ]
  },
  {
   "cell_type": "code",
   "execution_count": 101,
   "metadata": {},
   "outputs": [],
   "source": [
    "merged_data=movie_data_ratings_data.merge(data_u,on = 'user_id',how = 'inner')\n",
    "merged_data\n",
    "female_data = merged_data.loc[merged_data['gender'] == 'F']\n",
    "male_data = merged_data.loc[merged_data['gender'] == 'M']"
   ]
  },
  {
   "cell_type": "markdown",
   "metadata": {},
   "source": [
    "### section A"
   ]
  },
  {
   "cell_type": "markdown",
   "metadata": {},
   "source": [
    "#### female"
   ]
  },
  {
   "cell_type": "code",
   "execution_count": 102,
   "metadata": {},
   "outputs": [
    {
     "data": {
      "text/html": [
       "<div>\n",
       "<style scoped>\n",
       "    .dataframe tbody tr th:only-of-type {\n",
       "        vertical-align: middle;\n",
       "    }\n",
       "\n",
       "    .dataframe tbody tr th {\n",
       "        vertical-align: top;\n",
       "    }\n",
       "\n",
       "    .dataframe thead th {\n",
       "        text-align: right;\n",
       "    }\n",
       "</style>\n",
       "<table border=\"1\" class=\"dataframe\">\n",
       "  <thead>\n",
       "    <tr style=\"text-align: right;\">\n",
       "      <th></th>\n",
       "      <th>movie_id</th>\n",
       "      <th>movie title</th>\n",
       "      <th>rating for female</th>\n",
       "    </tr>\n",
       "  </thead>\n",
       "  <tbody>\n",
       "    <tr>\n",
       "      <th>0</th>\n",
       "      <td>1472</td>\n",
       "      <td>Visitors, The (Visiteurs, Les) (1993)</td>\n",
       "      <td>5.0</td>\n",
       "    </tr>\n",
       "    <tr>\n",
       "      <th>1</th>\n",
       "      <td>1594</td>\n",
       "      <td>Everest (1998)</td>\n",
       "      <td>5.0</td>\n",
       "    </tr>\n",
       "    <tr>\n",
       "      <th>2</th>\n",
       "      <td>1599</td>\n",
       "      <td>Someone Else's America (1995)</td>\n",
       "      <td>5.0</td>\n",
       "    </tr>\n",
       "  </tbody>\n",
       "</table>\n",
       "</div>"
      ],
      "text/plain": [
       "   movie_id                            movie title  rating for female\n",
       "0      1472  Visitors, The (Visiteurs, Les) (1993)                5.0\n",
       "1      1594                         Everest (1998)                5.0\n",
       "2      1599          Someone Else's America (1995)                5.0"
      ]
     },
     "execution_count": 102,
     "metadata": {},
     "output_type": "execute_result"
    }
   ],
   "source": [
    "avg_movie_rating_for_female = female_data.groupby(['movie_id', 'movie title'])['rating'].mean().sort_values(ascending=False).reset_index()\n",
    "avg_movie_rating_for_female.columns = ['movie_id','movie title', 'rating for female']\n",
    "avg_movie_rating_for_female.head(3)"
   ]
  },
  {
   "cell_type": "markdown",
   "metadata": {},
   "source": [
    "#### male"
   ]
  },
  {
   "cell_type": "code",
   "execution_count": 103,
   "metadata": {},
   "outputs": [
    {
     "data": {
      "text/html": [
       "<div>\n",
       "<style scoped>\n",
       "    .dataframe tbody tr th:only-of-type {\n",
       "        vertical-align: middle;\n",
       "    }\n",
       "\n",
       "    .dataframe tbody tr th {\n",
       "        vertical-align: top;\n",
       "    }\n",
       "\n",
       "    .dataframe thead th {\n",
       "        text-align: right;\n",
       "    }\n",
       "</style>\n",
       "<table border=\"1\" class=\"dataframe\">\n",
       "  <thead>\n",
       "    <tr style=\"text-align: right;\">\n",
       "      <th></th>\n",
       "      <th>movie_id</th>\n",
       "      <th>movie title</th>\n",
       "      <th>rating for male</th>\n",
       "    </tr>\n",
       "  </thead>\n",
       "  <tbody>\n",
       "    <tr>\n",
       "      <th>0</th>\n",
       "      <td>1293</td>\n",
       "      <td>Star Kid (1997)</td>\n",
       "      <td>5.0</td>\n",
       "    </tr>\n",
       "    <tr>\n",
       "      <th>1</th>\n",
       "      <td>1656</td>\n",
       "      <td>Little City (1998)</td>\n",
       "      <td>5.0</td>\n",
       "    </tr>\n",
       "    <tr>\n",
       "      <th>2</th>\n",
       "      <td>1122</td>\n",
       "      <td>They Made Me a Criminal (1939)</td>\n",
       "      <td>5.0</td>\n",
       "    </tr>\n",
       "  </tbody>\n",
       "</table>\n",
       "</div>"
      ],
      "text/plain": [
       "   movie_id                     movie title  rating for male\n",
       "0      1293                 Star Kid (1997)              5.0\n",
       "1      1656              Little City (1998)              5.0\n",
       "2      1122  They Made Me a Criminal (1939)              5.0"
      ]
     },
     "execution_count": 103,
     "metadata": {},
     "output_type": "execute_result"
    }
   ],
   "source": [
    "avg_movie_rating_for_male = male_data.groupby(['movie_id', 'movie title'])['rating'].mean().sort_values(ascending=False).reset_index()\n",
    "avg_movie_rating_for_male.columns = ['movie_id','movie title', 'rating for male']\n",
    "avg_movie_rating_for_male.head(3)"
   ]
  },
  {
   "cell_type": "markdown",
   "metadata": {},
   "source": [
    "### section B"
   ]
  },
  {
   "cell_type": "markdown",
   "metadata": {},
   "source": [
    "#### female"
   ]
  },
  {
   "cell_type": "code",
   "execution_count": 104,
   "metadata": {},
   "outputs": [
    {
     "data": {
      "text/html": [
       "<div>\n",
       "<style scoped>\n",
       "    .dataframe tbody tr th:only-of-type {\n",
       "        vertical-align: middle;\n",
       "    }\n",
       "\n",
       "    .dataframe tbody tr th {\n",
       "        vertical-align: top;\n",
       "    }\n",
       "\n",
       "    .dataframe thead th {\n",
       "        text-align: right;\n",
       "    }\n",
       "</style>\n",
       "<table border=\"1\" class=\"dataframe\">\n",
       "  <thead>\n",
       "    <tr style=\"text-align: right;\">\n",
       "      <th></th>\n",
       "      <th>movie_id</th>\n",
       "      <th>movie title</th>\n",
       "      <th># of ratings for female</th>\n",
       "    </tr>\n",
       "  </thead>\n",
       "  <tbody>\n",
       "    <tr>\n",
       "      <th>0</th>\n",
       "      <td>286</td>\n",
       "      <td>English Patient, The (1996)</td>\n",
       "      <td>125</td>\n",
       "    </tr>\n",
       "    <tr>\n",
       "      <th>1</th>\n",
       "      <td>50</td>\n",
       "      <td>Star Wars (1977)</td>\n",
       "      <td>125</td>\n",
       "    </tr>\n",
       "    <tr>\n",
       "      <th>2</th>\n",
       "      <td>288</td>\n",
       "      <td>Scream (1996)</td>\n",
       "      <td>118</td>\n",
       "    </tr>\n",
       "  </tbody>\n",
       "</table>\n",
       "</div>"
      ],
      "text/plain": [
       "   movie_id                  movie title  # of ratings for female\n",
       "0       286  English Patient, The (1996)                      125\n",
       "1        50             Star Wars (1977)                      125\n",
       "2       288                Scream (1996)                      118"
      ]
     },
     "execution_count": 104,
     "metadata": {},
     "output_type": "execute_result"
    }
   ],
   "source": [
    "most_rated_movies_female = female_data.groupby(['movie_id', 'movie title']).size().sort_values(ascending=False).reset_index()\n",
    "most_rated_movies_female.columns = ['movie_id','movie title', '# of ratings for female']\n",
    "most_rated_movies_female.head(3)"
   ]
  },
  {
   "cell_type": "markdown",
   "metadata": {},
   "source": [
    "#### male"
   ]
  },
  {
   "cell_type": "code",
   "execution_count": 105,
   "metadata": {},
   "outputs": [
    {
     "data": {
      "text/html": [
       "<div>\n",
       "<style scoped>\n",
       "    .dataframe tbody tr th:only-of-type {\n",
       "        vertical-align: middle;\n",
       "    }\n",
       "\n",
       "    .dataframe tbody tr th {\n",
       "        vertical-align: top;\n",
       "    }\n",
       "\n",
       "    .dataframe thead th {\n",
       "        text-align: right;\n",
       "    }\n",
       "</style>\n",
       "<table border=\"1\" class=\"dataframe\">\n",
       "  <thead>\n",
       "    <tr style=\"text-align: right;\">\n",
       "      <th></th>\n",
       "      <th>movie_id</th>\n",
       "      <th>movie title</th>\n",
       "      <th># of ratings for male</th>\n",
       "    </tr>\n",
       "  </thead>\n",
       "  <tbody>\n",
       "    <tr>\n",
       "      <th>0</th>\n",
       "      <td>50</td>\n",
       "      <td>Star Wars (1977)</td>\n",
       "      <td>359</td>\n",
       "    </tr>\n",
       "    <tr>\n",
       "      <th>1</th>\n",
       "      <td>181</td>\n",
       "      <td>Return of the Jedi (1983)</td>\n",
       "      <td>318</td>\n",
       "    </tr>\n",
       "    <tr>\n",
       "      <th>2</th>\n",
       "      <td>100</td>\n",
       "      <td>Fargo (1996)</td>\n",
       "      <td>300</td>\n",
       "    </tr>\n",
       "  </tbody>\n",
       "</table>\n",
       "</div>"
      ],
      "text/plain": [
       "   movie_id                movie title  # of ratings for male\n",
       "0        50           Star Wars (1977)                    359\n",
       "1       181  Return of the Jedi (1983)                    318\n",
       "2       100               Fargo (1996)                    300"
      ]
     },
     "execution_count": 105,
     "metadata": {},
     "output_type": "execute_result"
    }
   ],
   "source": [
    "most_rated_movies_male = male_data.groupby(['movie_id', 'movie title']).size().sort_values(ascending=False).reset_index()\n",
    "most_rated_movies_male.columns = ['movie_id','movie title', '# of ratings for male']\n",
    "most_rated_movies_male.head(3)"
   ]
  },
  {
   "cell_type": "markdown",
   "metadata": {},
   "source": [
    "### section C"
   ]
  },
  {
   "cell_type": "markdown",
   "metadata": {},
   "source": [
    "#### female"
   ]
  },
  {
   "cell_type": "code",
   "execution_count": 106,
   "metadata": {},
   "outputs": [
    {
     "data": {
      "text/html": [
       "<div>\n",
       "<style scoped>\n",
       "    .dataframe tbody tr th:only-of-type {\n",
       "        vertical-align: middle;\n",
       "    }\n",
       "\n",
       "    .dataframe tbody tr th {\n",
       "        vertical-align: top;\n",
       "    }\n",
       "\n",
       "    .dataframe thead th {\n",
       "        text-align: right;\n",
       "    }\n",
       "</style>\n",
       "<table border=\"1\" class=\"dataframe\">\n",
       "  <thead>\n",
       "    <tr style=\"text-align: right;\">\n",
       "      <th></th>\n",
       "      <th>movie_id</th>\n",
       "      <th>movie title</th>\n",
       "      <th># of ratings for female</th>\n",
       "      <th># of ratings &gt; 4</th>\n",
       "      <th>%</th>\n",
       "    </tr>\n",
       "  </thead>\n",
       "  <tbody>\n",
       "    <tr>\n",
       "      <th>851</th>\n",
       "      <td>1189</td>\n",
       "      <td>Prefontaine (1997)</td>\n",
       "      <td>1</td>\n",
       "      <td>1</td>\n",
       "      <td>1.0</td>\n",
       "    </tr>\n",
       "    <tr>\n",
       "      <th>845</th>\n",
       "      <td>1218</td>\n",
       "      <td>Friday (1995)</td>\n",
       "      <td>1</td>\n",
       "      <td>1</td>\n",
       "      <td>1.0</td>\n",
       "    </tr>\n",
       "    <tr>\n",
       "      <th>838</th>\n",
       "      <td>74</td>\n",
       "      <td>Faster Pussycat! Kill! Kill! (1965)</td>\n",
       "      <td>1</td>\n",
       "      <td>1</td>\n",
       "      <td>1.0</td>\n",
       "    </tr>\n",
       "  </tbody>\n",
       "</table>\n",
       "</div>"
      ],
      "text/plain": [
       "     movie_id                          movie title  # of ratings for female  \\\n",
       "851      1189                   Prefontaine (1997)                        1   \n",
       "845      1218                        Friday (1995)                        1   \n",
       "838        74  Faster Pussycat! Kill! Kill! (1965)                        1   \n",
       "\n",
       "     # of ratings > 4    %  \n",
       "851                 1  1.0  \n",
       "845                 1  1.0  \n",
       "838                 1  1.0  "
      ]
     },
     "execution_count": 106,
     "metadata": {},
     "output_type": "execute_result"
    }
   ],
   "source": [
    "above_4_ratings_per_item_female = female_data.loc[female_data['rating'] > 4].groupby('movie_id').size().sort_values(ascending=False).reset_index()\n",
    "above_4_ratings_per_item_female.columns=['movie_id','# of ratings > 4']\n",
    "percentage_of_rating_greater_than_4_female = pd.merge(most_rated_movies_female, above_4_ratings_per_item_female, on='movie_id')\n",
    "percentage_of_rating_greater_than_4_female['%'] = percentage_of_rating_greater_than_4_female['# of ratings > 4'] / percentage_of_rating_greater_than_4_female['# of ratings for female']\n",
    "result_c_female = percentage_of_rating_greater_than_4_female.sort_values('%', ascending=False)\n",
    "result_c_female.head(3)"
   ]
  },
  {
   "cell_type": "markdown",
   "metadata": {},
   "source": [
    "#### male"
   ]
  },
  {
   "cell_type": "code",
   "execution_count": 107,
   "metadata": {},
   "outputs": [
    {
     "data": {
      "text/html": [
       "<div>\n",
       "<style scoped>\n",
       "    .dataframe tbody tr th:only-of-type {\n",
       "        vertical-align: middle;\n",
       "    }\n",
       "\n",
       "    .dataframe tbody tr th {\n",
       "        vertical-align: top;\n",
       "    }\n",
       "\n",
       "    .dataframe thead th {\n",
       "        text-align: right;\n",
       "    }\n",
       "</style>\n",
       "<table border=\"1\" class=\"dataframe\">\n",
       "  <thead>\n",
       "    <tr style=\"text-align: right;\">\n",
       "      <th></th>\n",
       "      <th>movie_id</th>\n",
       "      <th>movie title</th>\n",
       "      <th># of ratings for male</th>\n",
       "      <th># of ratings &gt; 4</th>\n",
       "      <th>%</th>\n",
       "    </tr>\n",
       "  </thead>\n",
       "  <tbody>\n",
       "    <tr>\n",
       "      <th>983</th>\n",
       "      <td>1500</td>\n",
       "      <td>Santa with Muscles (1996)</td>\n",
       "      <td>1</td>\n",
       "      <td>1</td>\n",
       "      <td>1.0</td>\n",
       "    </tr>\n",
       "    <tr>\n",
       "      <th>977</th>\n",
       "      <td>1144</td>\n",
       "      <td>Quiet Room, The (1996)</td>\n",
       "      <td>1</td>\n",
       "      <td>1</td>\n",
       "      <td>1.0</td>\n",
       "    </tr>\n",
       "    <tr>\n",
       "      <th>944</th>\n",
       "      <td>1293</td>\n",
       "      <td>Star Kid (1997)</td>\n",
       "      <td>3</td>\n",
       "      <td>3</td>\n",
       "      <td>1.0</td>\n",
       "    </tr>\n",
       "  </tbody>\n",
       "</table>\n",
       "</div>"
      ],
      "text/plain": [
       "     movie_id                movie title  # of ratings for male  \\\n",
       "983      1500  Santa with Muscles (1996)                      1   \n",
       "977      1144     Quiet Room, The (1996)                      1   \n",
       "944      1293            Star Kid (1997)                      3   \n",
       "\n",
       "     # of ratings > 4    %  \n",
       "983                 1  1.0  \n",
       "977                 1  1.0  \n",
       "944                 3  1.0  "
      ]
     },
     "execution_count": 107,
     "metadata": {},
     "output_type": "execute_result"
    }
   ],
   "source": [
    "above_4_ratings_per_item_male = male_data.loc[male_data['rating'] > 4].groupby('movie_id').size().sort_values(ascending=False).reset_index()\n",
    "above_4_ratings_per_item_male.columns=['movie_id','# of ratings > 4']\n",
    "percentage_of_rating_greater_than_4_male = pd.merge(most_rated_movies_male, above_4_ratings_per_item_male, on='movie_id')\n",
    "percentage_of_rating_greater_than_4_male['%'] = percentage_of_rating_greater_than_4_male['# of ratings > 4'] / percentage_of_rating_greater_than_4_male['# of ratings for male']\n",
    "result_c_male = percentage_of_rating_greater_than_4_male.sort_values('%', ascending=False)\n",
    "result_c_male.head(3)"
   ]
  },
  {
   "cell_type": "markdown",
   "metadata": {},
   "source": [
    "## section D"
   ]
  },
  {
   "cell_type": "markdown",
   "metadata": {},
   "source": [
    "### female"
   ]
  },
  {
   "cell_type": "code",
   "execution_count": 108,
   "metadata": {},
   "outputs": [
    {
     "data": {
      "text/html": [
       "<div>\n",
       "<style scoped>\n",
       "    .dataframe tbody tr th:only-of-type {\n",
       "        vertical-align: middle;\n",
       "    }\n",
       "\n",
       "    .dataframe tbody tr th {\n",
       "        vertical-align: top;\n",
       "    }\n",
       "\n",
       "    .dataframe thead th {\n",
       "        text-align: right;\n",
       "    }\n",
       "</style>\n",
       "<table border=\"1\" class=\"dataframe\">\n",
       "  <thead>\n",
       "    <tr style=\"text-align: right;\">\n",
       "      <th></th>\n",
       "      <th>movie_id</th>\n",
       "      <th>movie title</th>\n",
       "      <th>new metric</th>\n",
       "    </tr>\n",
       "  </thead>\n",
       "  <tbody>\n",
       "    <tr>\n",
       "      <th>1</th>\n",
       "      <td>50</td>\n",
       "      <td>Star Wars (1977)</td>\n",
       "      <td>4.359504</td>\n",
       "    </tr>\n",
       "    <tr>\n",
       "      <th>0</th>\n",
       "      <td>286</td>\n",
       "      <td>English Patient, The (1996)</td>\n",
       "      <td>3.641753</td>\n",
       "    </tr>\n",
       "    <tr>\n",
       "      <th>4</th>\n",
       "      <td>258</td>\n",
       "      <td>Contact (1997)</td>\n",
       "      <td>3.453378</td>\n",
       "    </tr>\n",
       "  </tbody>\n",
       "</table>\n",
       "</div>"
      ],
      "text/plain": [
       "   movie_id                  movie title  new metric\n",
       "1        50             Star Wars (1977)    4.359504\n",
       "0       286  English Patient, The (1996)    3.641753\n",
       "4       258               Contact (1997)    3.453378"
      ]
     },
     "execution_count": 108,
     "metadata": {},
     "output_type": "execute_result"
    }
   ],
   "source": [
    "normalizeDF_female = most_rated_movies_female.merge(avg_movie_rating,on = 'movie_id',how = 'right')\n",
    "max_amount_of_ratings = most_rated_movies_female['# of ratings for female'][0]\n",
    "min_amount_of_ratings = most_rated_movies_female['# of ratings for female'][len(most_rated_movies_female)-1]\n",
    "normalizeDF_female['normalize amount of ratings'] = (most_rated_movies_female['# of ratings for female']-min_amount_of_ratings)/(max_amount_of_ratings-min_amount_of_ratings)\n",
    "normalizeDF_female['new metric'] = normalizeDF_female['normalize amount of ratings'] * normalizeDF_female['rating']\n",
    "normalizeDF2_female = normalizeDF_female[['movie_id','movie title_x', 'new metric']]\n",
    "normalizeDF2_female.columns = ['movie_id','movie title','new metric']\n",
    "result_D_female = normalizeDF2_female.sort_values('new metric', ascending=False)\n",
    "result_D_female.head(3)"
   ]
  },
  {
   "cell_type": "markdown",
   "metadata": {},
   "source": [
    "### male"
   ]
  },
  {
   "cell_type": "code",
   "execution_count": 109,
   "metadata": {},
   "outputs": [
    {
     "data": {
      "text/html": [
       "<div>\n",
       "<style scoped>\n",
       "    .dataframe tbody tr th:only-of-type {\n",
       "        vertical-align: middle;\n",
       "    }\n",
       "\n",
       "    .dataframe tbody tr th {\n",
       "        vertical-align: top;\n",
       "    }\n",
       "\n",
       "    .dataframe thead th {\n",
       "        text-align: right;\n",
       "    }\n",
       "</style>\n",
       "<table border=\"1\" class=\"dataframe\">\n",
       "  <thead>\n",
       "    <tr style=\"text-align: right;\">\n",
       "      <th></th>\n",
       "      <th>movie_id</th>\n",
       "      <th>movie title</th>\n",
       "      <th>new metric</th>\n",
       "    </tr>\n",
       "  </thead>\n",
       "  <tbody>\n",
       "    <tr>\n",
       "      <th>0</th>\n",
       "      <td>50</td>\n",
       "      <td>Star Wars (1977)</td>\n",
       "      <td>4.359504</td>\n",
       "    </tr>\n",
       "    <tr>\n",
       "      <th>1</th>\n",
       "      <td>181</td>\n",
       "      <td>Return of the Jedi (1983)</td>\n",
       "      <td>3.552391</td>\n",
       "    </tr>\n",
       "    <tr>\n",
       "      <th>2</th>\n",
       "      <td>100</td>\n",
       "      <td>Fargo (1996)</td>\n",
       "      <td>3.431702</td>\n",
       "    </tr>\n",
       "  </tbody>\n",
       "</table>\n",
       "</div>"
      ],
      "text/plain": [
       "   movie_id                movie title  new metric\n",
       "0        50           Star Wars (1977)    4.359504\n",
       "1       181  Return of the Jedi (1983)    3.552391\n",
       "2       100               Fargo (1996)    3.431702"
      ]
     },
     "execution_count": 109,
     "metadata": {},
     "output_type": "execute_result"
    }
   ],
   "source": [
    "normalizeDF_male = most_rated_movies_male.merge(avg_movie_rating,on = 'movie_id',how = 'right')\n",
    "max_amount_of_ratings = most_rated_movies_male['# of ratings for male'][0]\n",
    "min_amount_of_ratings = most_rated_movies_male['# of ratings for male'][len(most_rated_movies_male)-1]\n",
    "normalizeDF_male['normalize amount of ratings'] = (most_rated_movies_male['# of ratings for male']-min_amount_of_ratings)/(max_amount_of_ratings-min_amount_of_ratings)\n",
    "normalizeDF_male['new metric'] = normalizeDF_male['normalize amount of ratings'] * normalizeDF_male['rating']\n",
    "normalizeDF2_male = normalizeDF_male[['movie_id','movie title_x', 'new metric']]\n",
    "normalizeDF2_male.columns = ['movie_id','movie title','new metric']\n",
    "result_D_male = normalizeDF2_male.sort_values('new metric', ascending=False)\n",
    "result_D_male.head(3)"
   ]
  },
  {
   "cell_type": "markdown",
   "metadata": {},
   "source": [
    "### abs difference"
   ]
  },
  {
   "cell_type": "code",
   "execution_count": 110,
   "metadata": {},
   "outputs": [
    {
     "data": {
      "text/html": [
       "<div>\n",
       "<style scoped>\n",
       "    .dataframe tbody tr th:only-of-type {\n",
       "        vertical-align: middle;\n",
       "    }\n",
       "\n",
       "    .dataframe tbody tr th {\n",
       "        vertical-align: top;\n",
       "    }\n",
       "\n",
       "    .dataframe thead th {\n",
       "        text-align: right;\n",
       "    }\n",
       "</style>\n",
       "<table border=\"1\" class=\"dataframe\">\n",
       "  <thead>\n",
       "    <tr style=\"text-align: right;\">\n",
       "      <th></th>\n",
       "      <th>movie_id</th>\n",
       "      <th>movie title</th>\n",
       "      <th>rating for male</th>\n",
       "      <th>rating for female</th>\n",
       "      <th>abs difference</th>\n",
       "    </tr>\n",
       "  </thead>\n",
       "  <tbody>\n",
       "    <tr>\n",
       "      <th>1</th>\n",
       "      <td>1175</td>\n",
       "      <td>Hugo Pool (1997)</td>\n",
       "      <td>5.000000</td>\n",
       "      <td>1.0</td>\n",
       "      <td>4.000000</td>\n",
       "    </tr>\n",
       "    <tr>\n",
       "      <th>7</th>\n",
       "      <td>851</td>\n",
       "      <td>Two or Three Things I Know About Her (1966)</td>\n",
       "      <td>4.666667</td>\n",
       "      <td>1.0</td>\n",
       "      <td>3.666667</td>\n",
       "    </tr>\n",
       "    <tr>\n",
       "      <th>15</th>\n",
       "      <td>1429</td>\n",
       "      <td>Sliding Doors (1998)</td>\n",
       "      <td>4.500000</td>\n",
       "      <td>1.0</td>\n",
       "      <td>3.500000</td>\n",
       "    </tr>\n",
       "  </tbody>\n",
       "</table>\n",
       "</div>"
      ],
      "text/plain": [
       "    movie_id                                  movie title  rating for male  \\\n",
       "1       1175                             Hugo Pool (1997)         5.000000   \n",
       "7        851  Two or Three Things I Know About Her (1966)         4.666667   \n",
       "15      1429                         Sliding Doors (1998)         4.500000   \n",
       "\n",
       "    rating for female  abs difference  \n",
       "1                 1.0        4.000000  \n",
       "7                 1.0        3.666667  \n",
       "15                1.0        3.500000  "
      ]
     },
     "execution_count": 110,
     "metadata": {},
     "output_type": "execute_result"
    }
   ],
   "source": [
    "merged_data_by_gender=avg_movie_rating_for_male.merge(avg_movie_rating_for_female,on = ['movie_id','movie title'],how = 'inner')\n",
    "merged_data_by_gender['abs difference'] = abs(merged_data_by_gender['rating for male'] - merged_data_by_gender['rating for female'])\n",
    "merged_data_by_gender.sort_values(by='abs difference', ascending=False).head(3)"
   ]
  },
  {
   "cell_type": "markdown",
   "metadata": {},
   "source": [
    "### male minus female"
   ]
  },
  {
   "cell_type": "code",
   "execution_count": 111,
   "metadata": {},
   "outputs": [
    {
     "data": {
      "text/html": [
       "<div>\n",
       "<style scoped>\n",
       "    .dataframe tbody tr th:only-of-type {\n",
       "        vertical-align: middle;\n",
       "    }\n",
       "\n",
       "    .dataframe tbody tr th {\n",
       "        vertical-align: top;\n",
       "    }\n",
       "\n",
       "    .dataframe thead th {\n",
       "        text-align: right;\n",
       "    }\n",
       "</style>\n",
       "<table border=\"1\" class=\"dataframe\">\n",
       "  <thead>\n",
       "    <tr style=\"text-align: right;\">\n",
       "      <th></th>\n",
       "      <th>movie_id</th>\n",
       "      <th>movie title</th>\n",
       "      <th>rating for male</th>\n",
       "      <th>rating for female</th>\n",
       "      <th>difference</th>\n",
       "    </tr>\n",
       "  </thead>\n",
       "  <tbody>\n",
       "    <tr>\n",
       "      <th>1</th>\n",
       "      <td>1175</td>\n",
       "      <td>Hugo Pool (1997)</td>\n",
       "      <td>5.000000</td>\n",
       "      <td>1.0</td>\n",
       "      <td>4.000000</td>\n",
       "    </tr>\n",
       "    <tr>\n",
       "      <th>7</th>\n",
       "      <td>851</td>\n",
       "      <td>Two or Three Things I Know About Her (1966)</td>\n",
       "      <td>4.666667</td>\n",
       "      <td>1.0</td>\n",
       "      <td>3.666667</td>\n",
       "    </tr>\n",
       "    <tr>\n",
       "      <th>15</th>\n",
       "      <td>1429</td>\n",
       "      <td>Sliding Doors (1998)</td>\n",
       "      <td>4.500000</td>\n",
       "      <td>1.0</td>\n",
       "      <td>3.500000</td>\n",
       "    </tr>\n",
       "  </tbody>\n",
       "</table>\n",
       "</div>"
      ],
      "text/plain": [
       "    movie_id                                  movie title  rating for male  \\\n",
       "1       1175                             Hugo Pool (1997)         5.000000   \n",
       "7        851  Two or Three Things I Know About Her (1966)         4.666667   \n",
       "15      1429                         Sliding Doors (1998)         4.500000   \n",
       "\n",
       "    rating for female  difference  \n",
       "1                 1.0    4.000000  \n",
       "7                 1.0    3.666667  \n",
       "15                1.0    3.500000  "
      ]
     },
     "execution_count": 111,
     "metadata": {},
     "output_type": "execute_result"
    }
   ],
   "source": [
    "merged_data_by_gender_no_abs = avg_movie_rating_for_male.merge(avg_movie_rating_for_female,on = ['movie_id','movie title'],how = 'inner')\n",
    "merged_data_by_gender_no_abs['difference'] = merged_data_by_gender['rating for male'] - merged_data_by_gender['rating for female']\n",
    "merged_data_by_gender_no_abs.sort_values(by='difference', ascending=False).head(3)"
   ]
  },
  {
   "cell_type": "markdown",
   "metadata": {},
   "source": [
    "### female minus male"
   ]
  },
  {
   "cell_type": "code",
   "execution_count": 112,
   "metadata": {},
   "outputs": [
    {
     "data": {
      "text/html": [
       "<div>\n",
       "<style scoped>\n",
       "    .dataframe tbody tr th:only-of-type {\n",
       "        vertical-align: middle;\n",
       "    }\n",
       "\n",
       "    .dataframe tbody tr th {\n",
       "        vertical-align: top;\n",
       "    }\n",
       "\n",
       "    .dataframe thead th {\n",
       "        text-align: right;\n",
       "    }\n",
       "</style>\n",
       "<table border=\"1\" class=\"dataframe\">\n",
       "  <thead>\n",
       "    <tr style=\"text-align: right;\">\n",
       "      <th></th>\n",
       "      <th>movie_id</th>\n",
       "      <th>movie title</th>\n",
       "      <th>rating for male</th>\n",
       "      <th>rating for female</th>\n",
       "      <th>difference</th>\n",
       "    </tr>\n",
       "  </thead>\n",
       "  <tbody>\n",
       "    <tr>\n",
       "      <th>1399</th>\n",
       "      <td>1026</td>\n",
       "      <td>Lay of the Land, The (1997)</td>\n",
       "      <td>1.0</td>\n",
       "      <td>4.0</td>\n",
       "      <td>3.0</td>\n",
       "    </tr>\n",
       "    <tr>\n",
       "      <th>1394</th>\n",
       "      <td>1662</td>\n",
       "      <td>Rough Magic (1995)</td>\n",
       "      <td>1.0</td>\n",
       "      <td>4.0</td>\n",
       "      <td>3.0</td>\n",
       "    </tr>\n",
       "    <tr>\n",
       "      <th>1328</th>\n",
       "      <td>838</td>\n",
       "      <td>In the Line of Duty 2 (1987)</td>\n",
       "      <td>2.0</td>\n",
       "      <td>5.0</td>\n",
       "      <td>3.0</td>\n",
       "    </tr>\n",
       "  </tbody>\n",
       "</table>\n",
       "</div>"
      ],
      "text/plain": [
       "      movie_id                   movie title  rating for male  \\\n",
       "1399      1026   Lay of the Land, The (1997)              1.0   \n",
       "1394      1662            Rough Magic (1995)              1.0   \n",
       "1328       838  In the Line of Duty 2 (1987)              2.0   \n",
       "\n",
       "      rating for female  difference  \n",
       "1399                4.0         3.0  \n",
       "1394                4.0         3.0  \n",
       "1328                5.0         3.0  "
      ]
     },
     "execution_count": 112,
     "metadata": {},
     "output_type": "execute_result"
    }
   ],
   "source": [
    "merged_data_by_gender_no_abs2 = avg_movie_rating_for_male.merge(avg_movie_rating_for_female,on = ['movie_id','movie title'],how = 'inner')\n",
    "merged_data_by_gender_no_abs2['difference'] = merged_data_by_gender['rating for female'] - merged_data_by_gender['rating for male']\n",
    "merged_data_by_gender_no_abs2.sort_values(by='difference', ascending=False).head(3)"
   ]
  },
  {
   "cell_type": "markdown",
   "metadata": {},
   "source": [
    "# Q3"
   ]
  },
  {
   "cell_type": "markdown",
   "metadata": {},
   "source": [
    "## section A"
   ]
  },
  {
   "cell_type": "code",
   "execution_count": 113,
   "metadata": {},
   "outputs": [],
   "source": [
    "import numpy\n",
    "def Prediction_by_total_avg(movie_id):\n",
    "    all_rating = avg_movie_rating['rating']\n",
    "    return(numpy.mean(all_rating))"
   ]
  },
  {
   "cell_type": "code",
   "execution_count": 114,
   "metadata": {},
   "outputs": [],
   "source": [
    "def Prediction_by_movie_avg(movie_id):\n",
    "    row = avg_movie_rating[avg_movie_rating['movie_id']==movie_id]\n",
    "    if row.empty:\n",
    "        return Prediction_by_total_avg(movie_id)\n",
    "    else:\n",
    "        return row.iloc[0]['rating']"
   ]
  },
  {
   "cell_type": "code",
   "execution_count": 115,
   "metadata": {},
   "outputs": [
    {
     "name": "stdout",
     "output_type": "stream",
     "text": [
      "3.8929503916449084\n"
     ]
    }
   ],
   "source": [
    "print (Prediction_by_movie_avg(1))"
   ]
  },
  {
   "cell_type": "code",
   "execution_count": 116,
   "metadata": {},
   "outputs": [
    {
     "name": "stderr",
     "output_type": "stream",
     "text": [
      "C:\\Users\\rants\\Anaconda3\\lib\\site-packages\\ipykernel_launcher.py:8: FutureWarning: set_value is deprecated and will be removed in a future release. Please use .at[] or .iat[] accessors instead\n",
      "  \n",
      "C:\\Users\\rants\\Anaconda3\\lib\\site-packages\\ipykernel_launcher.py:9: FutureWarning: set_value is deprecated and will be removed in a future release. Please use .at[] or .iat[] accessors instead\n",
      "  if __name__ == '__main__':\n"
     ]
    }
   ],
   "source": [
    "#explore ratings\n",
    "test_cols = ['user_id','movie_id','rating','timestamp']\n",
    "data_test = pd.read_csv('C:/Users/rants/ml-100k/u1.test',delimiter='\\t',names=test_cols,encoding='latin-1')\n",
    "data_test.shape\n",
    "#merging two dataframes movies and ratings\n",
    "test_set=data.merge(data_test,on = 'movie_id',how = 'inner')\n",
    "for index, row in test_set.iterrows():  \n",
    "    test_set.set_value(index,'pridected_rating_by_movie_avg',Prediction_by_movie_avg(row['movie_id']))\n",
    "    test_set.set_value(index,'pridected_rating_by_total_avg',Prediction_by_total_avg(row['movie_id']))\n"
   ]
  },
  {
   "cell_type": "code",
   "execution_count": 117,
   "metadata": {},
   "outputs": [
    {
     "name": "stdout",
     "output_type": "stream",
     "text": [
      "MAE mthod 1: predicted by movie averge: 0.8272262612291202\n"
     ]
    }
   ],
   "source": [
    "test_set['dif_movie_avg_pridct_with_actual']=(test_set['rating']-test_set['pridected_rating_by_movie_avg']).abs()\n",
    "mae_pridct_by_movie_avg=numpy.mean(test_set['dif_movie_avg_pridct_with_actual'])\n",
    "print(\"MAE mthod 1: predicted by movie averge:\",mae_pridct_by_movie_avg)\n"
   ]
  },
  {
   "cell_type": "code",
   "execution_count": 118,
   "metadata": {},
   "outputs": [
    {
     "name": "stdout",
     "output_type": "stream",
     "text": [
      "MAE mthod 1: predicted by all movies averge: 1.0208669554938976\n"
     ]
    }
   ],
   "source": [
    "test_set['dif_total_avg_pridct_with_actual']=(test_set['rating']-test_set['pridected_rating_by_total_avg']).abs()\n",
    "mae_pridct_by_total_avg=numpy.mean(test_set['dif_total_avg_pridct_with_actual'])\n",
    "print(\"MAE mthod 1: predicted by all movies averge:\",mae_pridct_by_total_avg)\n"
   ]
  },
  {
   "cell_type": "markdown",
   "metadata": {},
   "source": [
    "it's easy to see that the second method have a larger MAE so we prefer the first method that predict by the avarge rating of a movie. it's make sence that the first method will be better than the second one, beacuase the second one is more general."
   ]
  },
  {
   "cell_type": "markdown",
   "metadata": {},
   "source": [
    "## section B"
   ]
  },
  {
   "cell_type": "code",
   "execution_count": 119,
   "metadata": {},
   "outputs": [],
   "source": [
    "def user_rated_movie(user_id,movie_id):\n",
    "    rows=data_r[data_r['movie_id']==movie_id]\n",
    "    row=rows[rows['user_id']==user_id]\n",
    "    return not row.empty"
   ]
  },
  {
   "cell_type": "code",
   "execution_count": 120,
   "metadata": {},
   "outputs": [],
   "source": [
    "def get_movies_user_saw(user_id):\n",
    "    return data_test[data_test[\"user_id\"]==user_id]"
   ]
  },
  {
   "cell_type": "code",
   "execution_count": 121,
   "metadata": {},
   "outputs": [],
   "source": [
    "def get_top_20_movies_metric_1(user_id,df):\n",
    "    results=pd.DataFrame(columns=['movie_id','movie title'])\n",
    "    i=0\n",
    "    for index, row in df.iterrows():  \n",
    "        if not user_rated_movie(user_id,row['movie_id']):\n",
    "            results.set_value(i,'movie_id',row['movie_id'])\n",
    "            results.set_value(i,'movie title',row['movie title'])\n",
    "            if (i==19):\n",
    "                    return results\n",
    "            i=i+1\n",
    "\n",
    "    return results.head(20)"
   ]
  },
  {
   "cell_type": "code",
   "execution_count": 122,
   "metadata": {},
   "outputs": [],
   "source": [
    "def calc_recall_and_precision(df):\n",
    "    users_from_test_set=data_test.user_id.unique()\n",
    "    results=pd.DataFrame(users_from_test_set,columns=['user_id'])\n",
    "    for index, row in results.iterrows():  \n",
    "        top20_for_user= get_top_20_movies_metric_1(row['user_id'],df)\n",
    "        movies_user_actual_saw=get_movies_user_saw(row['user_id'])\n",
    "        intersection = pd.merge(top20_for_user, movies_user_actual_saw, how='inner', on=['movie_id'])\n",
    "        recall=len(intersection.index)/len(movies_user_actual_saw.index)\n",
    "        results.set_value(index,'recall',recall)\n",
    "        precision=len(intersection.index)/20;\n",
    "        results.set_value(index,'precision',precision)\n",
    "    return results"
   ]
  },
  {
   "cell_type": "markdown",
   "metadata": {},
   "source": [
    "### metric a-"
   ]
  },
  {
   "cell_type": "code",
   "execution_count": 123,
   "metadata": {},
   "outputs": [
    {
     "name": "stderr",
     "output_type": "stream",
     "text": [
      "C:\\Users\\rants\\Anaconda3\\lib\\site-packages\\ipykernel_launcher.py:6: FutureWarning: set_value is deprecated and will be removed in a future release. Please use .at[] or .iat[] accessors instead\n",
      "  \n",
      "C:\\Users\\rants\\Anaconda3\\lib\\site-packages\\ipykernel_launcher.py:7: FutureWarning: set_value is deprecated and will be removed in a future release. Please use .at[] or .iat[] accessors instead\n",
      "  import sys\n",
      "C:\\Users\\rants\\Anaconda3\\lib\\site-packages\\ipykernel_launcher.py:9: FutureWarning: set_value is deprecated and will be removed in a future release. Please use .at[] or .iat[] accessors instead\n",
      "  if __name__ == '__main__':\n",
      "C:\\Users\\rants\\Anaconda3\\lib\\site-packages\\ipykernel_launcher.py:11: FutureWarning: set_value is deprecated and will be removed in a future release. Please use .at[] or .iat[] accessors instead\n",
      "  # This is added back by InteractiveShellApp.init_path()\n"
     ]
    }
   ],
   "source": [
    "res_a = calc_recall_and_precision(avg_movie_rating)"
   ]
  },
  {
   "cell_type": "code",
   "execution_count": 124,
   "metadata": {},
   "outputs": [
    {
     "name": "stdout",
     "output_type": "stream",
     "text": [
      "The mean recall of the first metric is: 0.022308444169231088\n",
      "The mean precision of the first metric is: 0.04575163398692821\n"
     ]
    }
   ],
   "source": [
    "mean_recall=numpy.mean(res_a['recall'])\n",
    "print(\"The mean recall of the first metric is:\", mean_recall)\n",
    "mean_precision=numpy.mean(res_a['precision'])\n",
    "print(\"The mean precision of the first metric is:\", mean_precision)"
   ]
  },
  {
   "cell_type": "markdown",
   "metadata": {},
   "source": [
    "### metric b-"
   ]
  },
  {
   "cell_type": "code",
   "execution_count": 125,
   "metadata": {},
   "outputs": [
    {
     "name": "stderr",
     "output_type": "stream",
     "text": [
      "C:\\Users\\rants\\Anaconda3\\lib\\site-packages\\ipykernel_launcher.py:6: FutureWarning: set_value is deprecated and will be removed in a future release. Please use .at[] or .iat[] accessors instead\n",
      "  \n",
      "C:\\Users\\rants\\Anaconda3\\lib\\site-packages\\ipykernel_launcher.py:7: FutureWarning: set_value is deprecated and will be removed in a future release. Please use .at[] or .iat[] accessors instead\n",
      "  import sys\n",
      "C:\\Users\\rants\\Anaconda3\\lib\\site-packages\\ipykernel_launcher.py:9: FutureWarning: set_value is deprecated and will be removed in a future release. Please use .at[] or .iat[] accessors instead\n",
      "  if __name__ == '__main__':\n",
      "C:\\Users\\rants\\Anaconda3\\lib\\site-packages\\ipykernel_launcher.py:11: FutureWarning: set_value is deprecated and will be removed in a future release. Please use .at[] or .iat[] accessors instead\n",
      "  # This is added back by InteractiveShellApp.init_path()\n"
     ]
    },
    {
     "name": "stdout",
     "output_type": "stream",
     "text": [
      "The mean recall of the second metric is: 0.14819695922756848\n",
      "The mean precision of the second metric is: 0.2540305010893243\n"
     ]
    }
   ],
   "source": [
    "res_b = calc_recall_and_precision(most_rated_movies)\n",
    "\n",
    "mean_recall=numpy.mean(res_b['recall'])\n",
    "print(\"The mean recall of the second metric is:\", mean_recall)\n",
    "mean_precision=numpy.mean(res_b['precision'])\n",
    "print(\"The mean precision of the second metric is:\", mean_precision)"
   ]
  },
  {
   "cell_type": "markdown",
   "metadata": {},
   "source": [
    "### metric c-"
   ]
  },
  {
   "cell_type": "code",
   "execution_count": 126,
   "metadata": {},
   "outputs": [
    {
     "name": "stderr",
     "output_type": "stream",
     "text": [
      "C:\\Users\\rants\\Anaconda3\\lib\\site-packages\\ipykernel_launcher.py:6: FutureWarning: set_value is deprecated and will be removed in a future release. Please use .at[] or .iat[] accessors instead\n",
      "  \n",
      "C:\\Users\\rants\\Anaconda3\\lib\\site-packages\\ipykernel_launcher.py:7: FutureWarning: set_value is deprecated and will be removed in a future release. Please use .at[] or .iat[] accessors instead\n",
      "  import sys\n",
      "C:\\Users\\rants\\Anaconda3\\lib\\site-packages\\ipykernel_launcher.py:9: FutureWarning: set_value is deprecated and will be removed in a future release. Please use .at[] or .iat[] accessors instead\n",
      "  if __name__ == '__main__':\n",
      "C:\\Users\\rants\\Anaconda3\\lib\\site-packages\\ipykernel_launcher.py:11: FutureWarning: set_value is deprecated and will be removed in a future release. Please use .at[] or .iat[] accessors instead\n",
      "  # This is added back by InteractiveShellApp.init_path()\n"
     ]
    },
    {
     "name": "stdout",
     "output_type": "stream",
     "text": [
      "The mean recall of the third metric is: 0.01402816691066605\n",
      "The mean precision of the third metric is: 0.035620915032679765\n"
     ]
    }
   ],
   "source": [
    "res_c = calc_recall_and_precision(result_c)\n",
    "\n",
    "mean_recall=numpy.mean(res_c['recall'])\n",
    "print(\"The mean recall of the third metric is:\", mean_recall)\n",
    "mean_precision=numpy.mean(res_c['precision'])\n",
    "print(\"The mean precision of the third metric is:\", mean_precision)"
   ]
  },
  {
   "cell_type": "markdown",
   "metadata": {},
   "source": [
    "### metric d-"
   ]
  },
  {
   "cell_type": "code",
   "execution_count": 127,
   "metadata": {},
   "outputs": [
    {
     "name": "stderr",
     "output_type": "stream",
     "text": [
      "C:\\Users\\rants\\Anaconda3\\lib\\site-packages\\ipykernel_launcher.py:6: FutureWarning: set_value is deprecated and will be removed in a future release. Please use .at[] or .iat[] accessors instead\n",
      "  \n",
      "C:\\Users\\rants\\Anaconda3\\lib\\site-packages\\ipykernel_launcher.py:7: FutureWarning: set_value is deprecated and will be removed in a future release. Please use .at[] or .iat[] accessors instead\n",
      "  import sys\n",
      "C:\\Users\\rants\\Anaconda3\\lib\\site-packages\\ipykernel_launcher.py:9: FutureWarning: set_value is deprecated and will be removed in a future release. Please use .at[] or .iat[] accessors instead\n",
      "  if __name__ == '__main__':\n",
      "C:\\Users\\rants\\Anaconda3\\lib\\site-packages\\ipykernel_launcher.py:11: FutureWarning: set_value is deprecated and will be removed in a future release. Please use .at[] or .iat[] accessors instead\n",
      "  # This is added back by InteractiveShellApp.init_path()\n"
     ]
    },
    {
     "name": "stdout",
     "output_type": "stream",
     "text": [
      "The mean recall of the fourth metric is: 0.1478102399224077\n",
      "The mean precision of the fourth metric is: 0.25620915032679703\n"
     ]
    }
   ],
   "source": [
    "res_d = calc_recall_and_precision(result_D)\n",
    "\n",
    "mean_recall=numpy.mean(res_d['recall'])\n",
    "print(\"The mean recall of the fourth metric is:\", mean_recall)\n",
    "mean_precision=numpy.mean(res_d['precision'])\n",
    "print(\"The mean precision of the fourth metric is:\", mean_precision)"
   ]
  },
  {
   "cell_type": "markdown",
   "metadata": {},
   "source": [
    "### metric e - random"
   ]
  },
  {
   "cell_type": "code",
   "execution_count": 128,
   "metadata": {},
   "outputs": [
    {
     "name": "stderr",
     "output_type": "stream",
     "text": [
      "C:\\Users\\rants\\Anaconda3\\lib\\site-packages\\ipykernel_launcher.py:6: FutureWarning: set_value is deprecated and will be removed in a future release. Please use .at[] or .iat[] accessors instead\n",
      "  \n",
      "C:\\Users\\rants\\Anaconda3\\lib\\site-packages\\ipykernel_launcher.py:7: FutureWarning: set_value is deprecated and will be removed in a future release. Please use .at[] or .iat[] accessors instead\n",
      "  import sys\n",
      "C:\\Users\\rants\\Anaconda3\\lib\\site-packages\\ipykernel_launcher.py:9: FutureWarning: set_value is deprecated and will be removed in a future release. Please use .at[] or .iat[] accessors instead\n",
      "  if __name__ == '__main__':\n",
      "C:\\Users\\rants\\Anaconda3\\lib\\site-packages\\ipykernel_launcher.py:11: FutureWarning: set_value is deprecated and will be removed in a future release. Please use .at[] or .iat[] accessors instead\n",
      "  # This is added back by InteractiveShellApp.init_path()\n"
     ]
    },
    {
     "name": "stdout",
     "output_type": "stream",
     "text": [
      "The mean recall of the third metric is: 0.011914994398928134\n",
      "The mean precision of the third metric is: 0.026252723311546853\n"
     ]
    }
   ],
   "source": [
    "temp_df = movie_data_ratings_data.groupby(['movie_id', 'movie title']).size().sort_values(ascending=False).reset_index()\n",
    "random_df = temp_df.sample(frac=1)\n",
    "res_e = calc_recall_and_precision(random_df)\n",
    "\n",
    "mean_recall=numpy.mean(res_e['recall'])\n",
    "print(\"The mean recall of the third metric is:\", mean_recall)\n",
    "mean_precision=numpy.mean(res_e['precision'])\n",
    "print(\"The mean precision of the third metric is:\", mean_precision)"
   ]
  },
  {
   "cell_type": "markdown",
   "metadata": {},
   "source": [
    "#### Metric B and metric D gives us the best results (both have almost the same recall and precision).\n",
    "#### Metric C gives us the worst results - recall and precisione are the lowest."
   ]
  },
  {
   "cell_type": "markdown",
   "metadata": {},
   "source": [
    "## section C"
   ]
  },
  {
   "cell_type": "markdown",
   "metadata": {},
   "source": [
    "### metric A"
   ]
  },
  {
   "cell_type": "markdown",
   "metadata": {},
   "source": [
    "### female"
   ]
  },
  {
   "cell_type": "code",
   "execution_count": 129,
   "metadata": {},
   "outputs": [
    {
     "name": "stderr",
     "output_type": "stream",
     "text": [
      "C:\\Users\\rants\\Anaconda3\\lib\\site-packages\\ipykernel_launcher.py:6: FutureWarning: set_value is deprecated and will be removed in a future release. Please use .at[] or .iat[] accessors instead\n",
      "  \n",
      "C:\\Users\\rants\\Anaconda3\\lib\\site-packages\\ipykernel_launcher.py:7: FutureWarning: set_value is deprecated and will be removed in a future release. Please use .at[] or .iat[] accessors instead\n",
      "  import sys\n",
      "C:\\Users\\rants\\Anaconda3\\lib\\site-packages\\ipykernel_launcher.py:9: FutureWarning: set_value is deprecated and will be removed in a future release. Please use .at[] or .iat[] accessors instead\n",
      "  if __name__ == '__main__':\n",
      "C:\\Users\\rants\\Anaconda3\\lib\\site-packages\\ipykernel_launcher.py:11: FutureWarning: set_value is deprecated and will be removed in a future release. Please use .at[] or .iat[] accessors instead\n",
      "  # This is added back by InteractiveShellApp.init_path()\n"
     ]
    },
    {
     "name": "stdout",
     "output_type": "stream",
     "text": [
      "The mean recall of the first metric is: 0.006801318441206493\n",
      "The mean precision of the first metric is: 0.018845315904139424\n"
     ]
    }
   ],
   "source": [
    "res_a_female = calc_recall_and_precision(avg_movie_rating_for_female)\n",
    "mean_recall=numpy.mean(res_a_female['recall'])\n",
    "print(\"The mean recall of the first metric is:\", mean_recall)\n",
    "mean_precision=numpy.mean(res_a_female['precision'])\n",
    "print(\"The mean precision of the first metric is:\", mean_precision)"
   ]
  },
  {
   "cell_type": "markdown",
   "metadata": {},
   "source": [
    "### male"
   ]
  },
  {
   "cell_type": "code",
   "execution_count": 130,
   "metadata": {},
   "outputs": [
    {
     "name": "stderr",
     "output_type": "stream",
     "text": [
      "C:\\Users\\rants\\Anaconda3\\lib\\site-packages\\ipykernel_launcher.py:6: FutureWarning: set_value is deprecated and will be removed in a future release. Please use .at[] or .iat[] accessors instead\n",
      "  \n",
      "C:\\Users\\rants\\Anaconda3\\lib\\site-packages\\ipykernel_launcher.py:7: FutureWarning: set_value is deprecated and will be removed in a future release. Please use .at[] or .iat[] accessors instead\n",
      "  import sys\n",
      "C:\\Users\\rants\\Anaconda3\\lib\\site-packages\\ipykernel_launcher.py:9: FutureWarning: set_value is deprecated and will be removed in a future release. Please use .at[] or .iat[] accessors instead\n",
      "  if __name__ == '__main__':\n",
      "C:\\Users\\rants\\Anaconda3\\lib\\site-packages\\ipykernel_launcher.py:11: FutureWarning: set_value is deprecated and will be removed in a future release. Please use .at[] or .iat[] accessors instead\n",
      "  # This is added back by InteractiveShellApp.init_path()\n"
     ]
    },
    {
     "name": "stdout",
     "output_type": "stream",
     "text": [
      "The mean recall of the first metric is: 0.002185861588241889\n",
      "The mean precision of the first metric is: 0.005555555555555555\n"
     ]
    }
   ],
   "source": [
    "res_a_male = calc_recall_and_precision(avg_movie_rating_for_male)\n",
    "mean_recall=numpy.mean(res_a_male['recall'])\n",
    "print(\"The mean recall of the first metric is:\", mean_recall)\n",
    "mean_precision=numpy.mean(res_a_male['precision'])\n",
    "print(\"The mean precision of the first metric is:\", mean_precision)"
   ]
  },
  {
   "cell_type": "markdown",
   "metadata": {},
   "source": [
    "### metric B"
   ]
  },
  {
   "cell_type": "markdown",
   "metadata": {},
   "source": [
    "### female"
   ]
  },
  {
   "cell_type": "code",
   "execution_count": 131,
   "metadata": {},
   "outputs": [
    {
     "name": "stderr",
     "output_type": "stream",
     "text": [
      "C:\\Users\\rants\\Anaconda3\\lib\\site-packages\\ipykernel_launcher.py:6: FutureWarning: set_value is deprecated and will be removed in a future release. Please use .at[] or .iat[] accessors instead\n",
      "  \n",
      "C:\\Users\\rants\\Anaconda3\\lib\\site-packages\\ipykernel_launcher.py:7: FutureWarning: set_value is deprecated and will be removed in a future release. Please use .at[] or .iat[] accessors instead\n",
      "  import sys\n",
      "C:\\Users\\rants\\Anaconda3\\lib\\site-packages\\ipykernel_launcher.py:9: FutureWarning: set_value is deprecated and will be removed in a future release. Please use .at[] or .iat[] accessors instead\n",
      "  if __name__ == '__main__':\n",
      "C:\\Users\\rants\\Anaconda3\\lib\\site-packages\\ipykernel_launcher.py:11: FutureWarning: set_value is deprecated and will be removed in a future release. Please use .at[] or .iat[] accessors instead\n",
      "  # This is added back by InteractiveShellApp.init_path()\n"
     ]
    },
    {
     "name": "stdout",
     "output_type": "stream",
     "text": [
      "The mean recall of the second metric is: 0.006801318441206493\n",
      "The mean precision of the second metric is: 0.2409586056644877\n"
     ]
    }
   ],
   "source": [
    "res_b_female = calc_recall_and_precision(most_rated_movies_female)\n",
    "mean_recall=numpy.mean(res_a_female['recall'])\n",
    "print(\"The mean recall of the second metric is:\", mean_recall)\n",
    "mean_precision=numpy.mean(res_b_female['precision'])\n",
    "print(\"The mean precision of the second metric is:\", mean_precision)"
   ]
  },
  {
   "cell_type": "markdown",
   "metadata": {},
   "source": [
    "### male"
   ]
  },
  {
   "cell_type": "code",
   "execution_count": 132,
   "metadata": {},
   "outputs": [
    {
     "name": "stderr",
     "output_type": "stream",
     "text": [
      "C:\\Users\\rants\\Anaconda3\\lib\\site-packages\\ipykernel_launcher.py:6: FutureWarning: set_value is deprecated and will be removed in a future release. Please use .at[] or .iat[] accessors instead\n",
      "  \n",
      "C:\\Users\\rants\\Anaconda3\\lib\\site-packages\\ipykernel_launcher.py:7: FutureWarning: set_value is deprecated and will be removed in a future release. Please use .at[] or .iat[] accessors instead\n",
      "  import sys\n",
      "C:\\Users\\rants\\Anaconda3\\lib\\site-packages\\ipykernel_launcher.py:9: FutureWarning: set_value is deprecated and will be removed in a future release. Please use .at[] or .iat[] accessors instead\n",
      "  if __name__ == '__main__':\n",
      "C:\\Users\\rants\\Anaconda3\\lib\\site-packages\\ipykernel_launcher.py:11: FutureWarning: set_value is deprecated and will be removed in a future release. Please use .at[] or .iat[] accessors instead\n",
      "  # This is added back by InteractiveShellApp.init_path()\n"
     ]
    },
    {
     "name": "stdout",
     "output_type": "stream",
     "text": [
      "The mean recall of the second metric is: 0.002185861588241889\n",
      "The mean precision of the second metric is: 0.2582788671023961\n"
     ]
    }
   ],
   "source": [
    "res_b_male = calc_recall_and_precision(most_rated_movies_male)\n",
    "mean_recall=numpy.mean(res_a_male['recall'])\n",
    "print(\"The mean recall of the second metric is:\", mean_recall)\n",
    "mean_precision=numpy.mean(res_b_male['precision'])\n",
    "print(\"The mean precision of the second metric is:\", mean_precision)"
   ]
  },
  {
   "cell_type": "markdown",
   "metadata": {},
   "source": [
    "### metric C"
   ]
  },
  {
   "cell_type": "markdown",
   "metadata": {},
   "source": [
    "### female"
   ]
  },
  {
   "cell_type": "code",
   "execution_count": 133,
   "metadata": {},
   "outputs": [
    {
     "name": "stderr",
     "output_type": "stream",
     "text": [
      "C:\\Users\\rants\\Anaconda3\\lib\\site-packages\\ipykernel_launcher.py:6: FutureWarning: set_value is deprecated and will be removed in a future release. Please use .at[] or .iat[] accessors instead\n",
      "  \n",
      "C:\\Users\\rants\\Anaconda3\\lib\\site-packages\\ipykernel_launcher.py:7: FutureWarning: set_value is deprecated and will be removed in a future release. Please use .at[] or .iat[] accessors instead\n",
      "  import sys\n",
      "C:\\Users\\rants\\Anaconda3\\lib\\site-packages\\ipykernel_launcher.py:9: FutureWarning: set_value is deprecated and will be removed in a future release. Please use .at[] or .iat[] accessors instead\n",
      "  if __name__ == '__main__':\n",
      "C:\\Users\\rants\\Anaconda3\\lib\\site-packages\\ipykernel_launcher.py:11: FutureWarning: set_value is deprecated and will be removed in a future release. Please use .at[] or .iat[] accessors instead\n",
      "  # This is added back by InteractiveShellApp.init_path()\n"
     ]
    },
    {
     "name": "stdout",
     "output_type": "stream",
     "text": [
      "The mean recall of the third metric is: 0.00799897271729921\n",
      "The mean precision of the third metric is: 0.019498910675381252\n"
     ]
    }
   ],
   "source": [
    "res_c_female = calc_recall_and_precision(result_c_female)\n",
    "mean_recall=numpy.mean(res_c_female['recall'])\n",
    "print(\"The mean recall of the third metric is:\", mean_recall)\n",
    "mean_precision=numpy.mean(res_c_female['precision'])\n",
    "print(\"The mean precision of the third metric is:\", mean_precision)"
   ]
  },
  {
   "cell_type": "markdown",
   "metadata": {},
   "source": [
    "### male"
   ]
  },
  {
   "cell_type": "code",
   "execution_count": 134,
   "metadata": {},
   "outputs": [
    {
     "name": "stderr",
     "output_type": "stream",
     "text": [
      "C:\\Users\\rants\\Anaconda3\\lib\\site-packages\\ipykernel_launcher.py:6: FutureWarning: set_value is deprecated and will be removed in a future release. Please use .at[] or .iat[] accessors instead\n",
      "  \n",
      "C:\\Users\\rants\\Anaconda3\\lib\\site-packages\\ipykernel_launcher.py:7: FutureWarning: set_value is deprecated and will be removed in a future release. Please use .at[] or .iat[] accessors instead\n",
      "  import sys\n",
      "C:\\Users\\rants\\Anaconda3\\lib\\site-packages\\ipykernel_launcher.py:9: FutureWarning: set_value is deprecated and will be removed in a future release. Please use .at[] or .iat[] accessors instead\n",
      "  if __name__ == '__main__':\n",
      "C:\\Users\\rants\\Anaconda3\\lib\\site-packages\\ipykernel_launcher.py:11: FutureWarning: set_value is deprecated and will be removed in a future release. Please use .at[] or .iat[] accessors instead\n",
      "  # This is added back by InteractiveShellApp.init_path()\n"
     ]
    },
    {
     "name": "stdout",
     "output_type": "stream",
     "text": [
      "The mean recall of the third metric is: 0.0010343549245799867\n",
      "The mean precision of the third metric is: 0.0018518518518518517\n"
     ]
    }
   ],
   "source": [
    "res_c_male = calc_recall_and_precision(result_c_male)\n",
    "mean_recall=numpy.mean(res_c_male['recall'])\n",
    "print(\"The mean recall of the third metric is:\", mean_recall)\n",
    "mean_precision=numpy.mean(res_c_male['precision'])\n",
    "print(\"The mean precision of the third metric is:\", mean_precision)"
   ]
  },
  {
   "cell_type": "markdown",
   "metadata": {},
   "source": [
    "### metric D"
   ]
  },
  {
   "cell_type": "markdown",
   "metadata": {},
   "source": [
    "### female"
   ]
  },
  {
   "cell_type": "code",
   "execution_count": 135,
   "metadata": {},
   "outputs": [
    {
     "name": "stderr",
     "output_type": "stream",
     "text": [
      "C:\\Users\\rants\\Anaconda3\\lib\\site-packages\\ipykernel_launcher.py:6: FutureWarning: set_value is deprecated and will be removed in a future release. Please use .at[] or .iat[] accessors instead\n",
      "  \n",
      "C:\\Users\\rants\\Anaconda3\\lib\\site-packages\\ipykernel_launcher.py:7: FutureWarning: set_value is deprecated and will be removed in a future release. Please use .at[] or .iat[] accessors instead\n",
      "  import sys\n",
      "C:\\Users\\rants\\Anaconda3\\lib\\site-packages\\ipykernel_launcher.py:9: FutureWarning: set_value is deprecated and will be removed in a future release. Please use .at[] or .iat[] accessors instead\n",
      "  if __name__ == '__main__':\n",
      "C:\\Users\\rants\\Anaconda3\\lib\\site-packages\\ipykernel_launcher.py:11: FutureWarning: set_value is deprecated and will be removed in a future release. Please use .at[] or .iat[] accessors instead\n",
      "  # This is added back by InteractiveShellApp.init_path()\n"
     ]
    },
    {
     "name": "stdout",
     "output_type": "stream",
     "text": [
      "The mean recall of the forth metric is: 0.1493812740881478\n",
      "The mean precision of the forth metric is: 0.24705882352941141\n"
     ]
    }
   ],
   "source": [
    "res_d_female = calc_recall_and_precision(result_D_female)\n",
    "mean_recall=numpy.mean(res_d_female['recall'])\n",
    "print(\"The mean recall of the forth metric is:\", mean_recall)\n",
    "mean_precision=numpy.mean(res_d_female['precision'])\n",
    "print(\"The mean precision of the forth metric is:\", mean_precision)"
   ]
  },
  {
   "cell_type": "markdown",
   "metadata": {},
   "source": [
    "### male"
   ]
  },
  {
   "cell_type": "code",
   "execution_count": 136,
   "metadata": {},
   "outputs": [
    {
     "name": "stderr",
     "output_type": "stream",
     "text": [
      "C:\\Users\\rants\\Anaconda3\\lib\\site-packages\\ipykernel_launcher.py:6: FutureWarning: set_value is deprecated and will be removed in a future release. Please use .at[] or .iat[] accessors instead\n",
      "  \n",
      "C:\\Users\\rants\\Anaconda3\\lib\\site-packages\\ipykernel_launcher.py:7: FutureWarning: set_value is deprecated and will be removed in a future release. Please use .at[] or .iat[] accessors instead\n",
      "  import sys\n",
      "C:\\Users\\rants\\Anaconda3\\lib\\site-packages\\ipykernel_launcher.py:9: FutureWarning: set_value is deprecated and will be removed in a future release. Please use .at[] or .iat[] accessors instead\n",
      "  if __name__ == '__main__':\n",
      "C:\\Users\\rants\\Anaconda3\\lib\\site-packages\\ipykernel_launcher.py:11: FutureWarning: set_value is deprecated and will be removed in a future release. Please use .at[] or .iat[] accessors instead\n",
      "  # This is added back by InteractiveShellApp.init_path()\n"
     ]
    },
    {
     "name": "stdout",
     "output_type": "stream",
     "text": [
      "The mean recall of the forth metric is: 0.14824684613975628\n",
      "The mean precision of the forth metric is: 0.2606753812636163\n"
     ]
    }
   ],
   "source": [
    "res_d_male = calc_recall_and_precision(result_D_male)\n",
    "mean_recall=numpy.mean(res_d_male['recall'])\n",
    "print(\"The mean recall of the forth metric is:\", mean_recall)\n",
    "mean_precision=numpy.mean(res_d_male['precision'])\n",
    "print(\"The mean precision of the forth metric is:\", mean_precision)"
   ]
  },
  {
   "cell_type": "markdown",
   "metadata": {},
   "source": [
    "### metric E - random"
   ]
  },
  {
   "cell_type": "markdown",
   "metadata": {},
   "source": [
    "### female"
   ]
  },
  {
   "cell_type": "code",
   "execution_count": 137,
   "metadata": {},
   "outputs": [
    {
     "name": "stderr",
     "output_type": "stream",
     "text": [
      "C:\\Users\\rants\\Anaconda3\\lib\\site-packages\\ipykernel_launcher.py:6: FutureWarning: set_value is deprecated and will be removed in a future release. Please use .at[] or .iat[] accessors instead\n",
      "  \n",
      "C:\\Users\\rants\\Anaconda3\\lib\\site-packages\\ipykernel_launcher.py:7: FutureWarning: set_value is deprecated and will be removed in a future release. Please use .at[] or .iat[] accessors instead\n",
      "  import sys\n",
      "C:\\Users\\rants\\Anaconda3\\lib\\site-packages\\ipykernel_launcher.py:9: FutureWarning: set_value is deprecated and will be removed in a future release. Please use .at[] or .iat[] accessors instead\n",
      "  if __name__ == '__main__':\n",
      "C:\\Users\\rants\\Anaconda3\\lib\\site-packages\\ipykernel_launcher.py:11: FutureWarning: set_value is deprecated and will be removed in a future release. Please use .at[] or .iat[] accessors instead\n",
      "  # This is added back by InteractiveShellApp.init_path()\n"
     ]
    },
    {
     "name": "stdout",
     "output_type": "stream",
     "text": [
      "The mean recall of the fifth metric is: 0.04304687699454831\n",
      "The mean precision of the fifth metric is: 0.07930283224400873\n"
     ]
    }
   ],
   "source": [
    "random_df_female = female_data.sample(frac=1)\n",
    "res_e_female = calc_recall_and_precision(random_df_female)\n",
    "\n",
    "mean_recall=numpy.mean(res_e_female['recall'])\n",
    "print(\"The mean recall of the fifth metric is:\", mean_recall)\n",
    "mean_precision=numpy.mean(res_e_female['precision'])\n",
    "print(\"The mean precision of the fifth metric is:\", mean_precision)"
   ]
  },
  {
   "cell_type": "markdown",
   "metadata": {},
   "source": [
    "### male"
   ]
  },
  {
   "cell_type": "code",
   "execution_count": 138,
   "metadata": {},
   "outputs": [
    {
     "name": "stderr",
     "output_type": "stream",
     "text": [
      "C:\\Users\\rants\\Anaconda3\\lib\\site-packages\\ipykernel_launcher.py:6: FutureWarning: set_value is deprecated and will be removed in a future release. Please use .at[] or .iat[] accessors instead\n",
      "  \n",
      "C:\\Users\\rants\\Anaconda3\\lib\\site-packages\\ipykernel_launcher.py:7: FutureWarning: set_value is deprecated and will be removed in a future release. Please use .at[] or .iat[] accessors instead\n",
      "  import sys\n",
      "C:\\Users\\rants\\Anaconda3\\lib\\site-packages\\ipykernel_launcher.py:9: FutureWarning: set_value is deprecated and will be removed in a future release. Please use .at[] or .iat[] accessors instead\n",
      "  if __name__ == '__main__':\n",
      "C:\\Users\\rants\\Anaconda3\\lib\\site-packages\\ipykernel_launcher.py:11: FutureWarning: set_value is deprecated and will be removed in a future release. Please use .at[] or .iat[] accessors instead\n",
      "  # This is added back by InteractiveShellApp.init_path()\n"
     ]
    },
    {
     "name": "stdout",
     "output_type": "stream",
     "text": [
      "The mean recall of the fifth metric is: 0.03872994935333998\n",
      "The mean precision of the fifth metric is: 0.09379084967320259\n"
     ]
    }
   ],
   "source": [
    "random_df_male = male_data.sample(frac=1)\n",
    "res_e_male = calc_recall_and_precision(random_df_male)\n",
    "\n",
    "mean_recall=numpy.mean(res_e_male['recall'])\n",
    "print(\"The mean recall of the fifth metric is:\", mean_recall)\n",
    "mean_precision=numpy.mean(res_e_male['precision'])\n",
    "print(\"The mean precision of the fifth metric is:\", mean_precision)"
   ]
  },
  {
   "cell_type": "markdown",
   "metadata": {},
   "source": [
    "#### Metric D gives us the best results \n",
    "#### Metric E gives us the second best results, better than metric A,B,C"
   ]
  }
 ],
 "metadata": {
  "kernelspec": {
   "display_name": "Python 3",
   "language": "python",
   "name": "python3"
  },
  "language_info": {
   "codemirror_mode": {
    "name": "ipython",
    "version": 3
   },
   "file_extension": ".py",
   "mimetype": "text/x-python",
   "name": "python",
   "nbconvert_exporter": "python",
   "pygments_lexer": "ipython3",
   "version": "3.6.4"
  }
 },
 "nbformat": 4,
 "nbformat_minor": 2
}
