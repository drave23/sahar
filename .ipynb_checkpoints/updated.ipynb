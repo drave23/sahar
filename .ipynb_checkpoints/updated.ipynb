{
 "cells": [
  {
   "cell_type": "markdown",
   "metadata": {
    "colab_type": "text",
    "id": "lYL2yhps-MoR"
   },
   "source": [
    "<h1> ~Neural Collaborative Filtering -  Implementation with Keras </h>"
   ]
  },
  {
   "cell_type": "code",
   "execution_count": 10,
   "metadata": {
    "colab": {
     "autoexec": {
      "startup": false,
      "wait_interval": 0.0
     },
     "base_uri": "https://localhost:8080/",
     "height": 34.0
    },
    "colab_type": "code",
    "collapsed": false,
    "executionInfo": {
     "elapsed": 2668.0,
     "status": "ok",
     "timestamp": 1.53280798018E12,
     "user": {
      "displayName": "Ran Tsur",
      "photoUrl": "//lh3.googleusercontent.com/-pkQ4mq31yyM/AAAAAAAAAAI/AAAAAAAAABg/OJrKb1aE-5Q/s50-c-k-no/photo.jpg",
      "userId": "106754954225433138332"
     },
     "user_tz": -180.0
    },
    "id": "Qar2rpog-MoS",
    "outputId": "1b22139b-f649-45f1-cb03-4d16657f3bf7"
   },
   "outputs": [],
   "source": [
    "import pandas as pd\n",
    "import numpy as np\n",
    "import matplotlib.pyplot as plt "
   ]
  },
  {
   "cell_type": "markdown",
   "metadata": {
    "colab_type": "text",
    "id": "UqaKXWj2-MoX"
   },
   "source": [
    "**Define dataset folder and files**"
   ]
  },
  {
   "cell_type": "code",
   "execution_count": 11,
   "metadata": {
    "colab": {
     "autoexec": {
      "startup": false,
      "wait_interval": 0.0
     }
    },
    "colab_type": "code",
    "collapsed": true,
    "id": "ATWd9BvF-MoX"
   },
   "outputs": [],
   "source": [
    "RATING_DATA_FILE_TRAIN = 'u1.base'\n",
    "RATING_DATA_FILE_TEST = 'u1.test'\n",
    "MOVIES_DATA_FILE_PATH = 'u.item'\n",
    "USERS_DATA_FILE_PATH = 'u.user'"
   ]
  },
  {
   "cell_type": "code",
   "execution_count": 12,
   "metadata": {
    "colab": {
     "autoexec": {
      "startup": false,
      "wait_interval": 0.0
     }
    },
    "colab_type": "code",
    "collapsed": false,
    "id": "jYlcT_ptB7Wu"
   },
   "outputs": [
    {
     "data": {
      "text/plain": [
       "(1682, 24)"
      ]
     },
     "execution_count": 12,
     "metadata": {},
     "output_type": "execute_result"
    }
   ],
   "source": [
    "# lets explore movies.csv\n",
    "m_cols = ['movie_id','movie title','release date','video release date','IMDb URL'\n",
    "          ,'unknown','Action','Adventure','Animation','Childrens','Comedy',\n",
    "          'Crime','Documentary','Drama','Fantasy','Film-Noir','Horror','Musical','Mystery','Romance','Sci-Fi',\n",
    "        'Thriller','War','Western']\n",
    "data= pd.read_csv('d:/documents/users/ravedan/Downloads/ml-100k/u.item',delimiter='|',names=m_cols,encoding='latin-1')\n",
    "data.shape"
   ]
  },
  {
   "cell_type": "code",
   "execution_count": 13,
   "metadata": {
    "collapsed": false
   },
   "outputs": [
    {
     "data": {
      "text/plain": [
       "(943, 5)"
      ]
     },
     "execution_count": 13,
     "metadata": {},
     "output_type": "execute_result"
    }
   ],
   "source": [
    "#explore users\n",
    "u_cols = ['user_id','age','gender','occupation','zip_code']\n",
    "data_u = pd.read_csv('d:/documents/users/ravedan/Downloads/ml-100k/u.user',delimiter='|',names=u_cols,encoding='latin-1')\n",
    "data_u.shape"
   ]
  },
  {
   "cell_type": "code",
   "execution_count": 14,
   "metadata": {
    "collapsed": false
   },
   "outputs": [
    {
     "data": {
      "text/plain": [
       "(80000, 4)"
      ]
     },
     "execution_count": 14,
     "metadata": {},
     "output_type": "execute_result"
    }
   ],
   "source": [
    "r_cols = ['user_id','movie_id','rating','timestamp']\n",
    "data_r = pd.read_csv('d:/documents/users/ravedan/Downloads/ml-100k/u1.base',delimiter='\\t',names=r_cols,encoding='latin-1')\n",
    "data_r.shape"
   ]
  },
  {
   "cell_type": "code",
   "execution_count": 16,
   "metadata": {
    "collapsed": false
   },
   "outputs": [
    {
     "name": "stdout",
     "output_type": "stream",
     "text": [
      "Histogram\n"
     ]
    },
    {
     "data": {
      "image/png": "[encoded data removed]",
      "text/plain": [
       "<matplotlib.figure.Figure at 0x1bfecb31be0>"
      ]
     },
     "metadata": {},
     "output_type": "display_data"
    },
    {
     "name": "stdout",
     "output_type": "stream",
     "text": [
      "   movie_id                                 movie title  rating\n",
      "0      1500                   Santa with Muscles (1996)     5.0\n",
      "1      1201  Marlene Dietrich: Shadow and Light (1996)      5.0\n",
      "2      1293                             Star Kid (1997)     5.0\n"
     ]
    }
   ],
   "source": [
    "# 1.1\n",
    "dataRating=data.merge(data_r,on = 'movie_id',how = 'inner')\n",
    "averageMovieRating = dataRating.groupby(['movie_id', 'movie title'])['rating'].mean().sort_values(ascending=False).reset_index()\n",
    "\n",
    "print('Histogram')\n",
    "plt.hist(averageMovieRating['rating'],bins='auto')\n",
    "plt.xlabel('Average Rating')\n",
    "plt.ylabel('# of Movies')\n",
    "\n",
    "\n",
    "plt.show()\n",
    "\n",
    "bestRating = averageMovieRating.head(3)\n",
    "print(bestRating)"
   ]
  },
  {
   "cell_type": "code",
   "execution_count": 17,
   "metadata": {
    "collapsed": false
   },
   "outputs": [],
   "source": [
    "#1.2\n",
    "\n",
    "merged_data=dataRating.merge(data_u,on = 'user_id', how='inner')\n",
    "\n",
    "femaleData = merged_data.loc[merged_data['gender'] == 'F']\n",
    "maleData = merged_data.loc[merged_data['gender'] == 'M']\n"
   ]
  },
  {
   "cell_type": "code",
   "execution_count": 18,
   "metadata": {
    "collapsed": false
   },
   "outputs": [
    {
     "name": "stdout",
     "output_type": "stream",
     "text": [
      "Histogram\n"
     ]
    },
    {
     "data": {
      "image/png": "[encoded data removed]",
      "text/plain": [
       "<matplotlib.figure.Figure at 0x1bfef23e860>"
      ]
     },
     "metadata": {},
     "output_type": "display_data"
    },
    {
     "name": "stdout",
     "output_type": "stream",
     "text": [
      "   movie_id                            movie title gender  ratingFemale\n",
      "0      1472  Visitors, The (Visiteurs, Les) (1993)      F           5.0\n",
      "1      1594                         Everest (1998)      F           5.0\n",
      "2      1599          Someone Else's America (1995)      F           5.0\n"
     ]
    }
   ],
   "source": [
    "#female\n",
    "averageMovieRatingFemale = femaleData.groupby(['movie_id','movie title','gender'])['rating'].mean().sort_values(ascending=False).reset_index()\n",
    "\n",
    "averageMovieRatingFemale.columns = ['movie_id','movie title','gender', 'ratingFemale']\n",
    "print('Histogram')\n",
    "plt.hist(averageMovieRatingFemale['ratingFemale'],bins='auto')\n",
    "plt.xlabel('Average Rating')\n",
    "plt.ylabel('# of Movies')\n",
    "plt.show()\n",
    "bestRating = averageMovieRatingFemale.head(3)\n",
    "print(bestRating)"
   ]
  },
  {
   "cell_type": "code",
   "execution_count": 19,
   "metadata": {
    "collapsed": false
   },
   "outputs": [
    {
     "name": "stdout",
     "output_type": "stream",
     "text": [
      "Histogram\n"
     ]
    },
    {
     "data": {
      "image/png": "[encoded data removed]",
      "text/plain": [
       "<matplotlib.figure.Figure at 0x1bfed2a0ef0>"
      ]
     },
     "metadata": {},
     "output_type": "display_data"
    },
    {
     "name": "stdout",
     "output_type": "stream",
     "text": [
      "   movie_id                     movie title gender  ratingMale\n",
      "0      1293                 Star Kid (1997)      M         5.0\n",
      "1      1656              Little City (1998)      M         5.0\n",
      "2      1122  They Made Me a Criminal (1939)      M         5.0\n"
     ]
    }
   ],
   "source": [
    "#male\n",
    "\n",
    "averageMovieRatingMale = maleData.groupby(['movie_id','movie title','gender'])['rating'].mean().sort_values(ascending=False).reset_index()\n",
    "averageMovieRatingMale.columns = ['movie_id','movie title','gender', 'ratingMale']\n",
    "print('Histogram')\n",
    "plt.hist(averageMovieRatingMale['ratingMale'],bins='auto')\n",
    "plt.xlabel('Average Rating')\n",
    "plt.ylabel('# of Movies')\n",
    "plt.show()\n",
    "bestRating = averageMovieRatingMale.head(3)\n",
    "print(bestRating)"
   ]
  },
  {
   "cell_type": "markdown",
   "metadata": {},
   "source": [
    "#1.2 לענות על הסיף בהתאם לתוצאות שיצאו לנו"
   ]
  },
  {
   "cell_type": "markdown",
   "metadata": {},
   "source": [
    "# 1.3\n"
   ]
  },
  {
   "cell_type": "code",
   "execution_count": 37,
   "metadata": {
    "collapsed": false
   },
   "outputs": [
    {
     "name": "stdout",
     "output_type": "stream",
     "text": [
      "head\n",
      "    movieID       res\n",
      "1      1175  4.000000\n",
      "7       851  3.666667\n",
      "15     1429  3.500000\n",
      "16      641  3.461538\n",
      "50     1592  3.250000\n",
      " tail\n",
      "      movieID  res\n",
      "164      1194  0.0\n",
      "1324     1289  0.0\n",
      "939       914  0.0\n",
      "909        34  0.0\n",
      "945      1454  0.0\n",
      " mean\n",
      "0.5309060513841749\n"
     ]
    }
   ],
   "source": [
    "males_and_females_ratings = averageMovieRatingMale.merge(averageMovieRatingFemale,on=\"movie_id\")\n",
    "#print(males_and_females_ratings)\n",
    "#print(males_and_females_ratings[['movie title_x','ratingMale','ratingFemale']])\n",
    "\n",
    "difference_between_genders=males_and_females_ratings.apply(lambda row: (abs(row['ratingMale']-row['ratingFemale'])), axis=1)\n",
    "difference_between_genders_df = pd.DataFrame({'movieid':difference_between_genders.index, 'difference':difference_between_genders.values})\n",
    "#difference_between_genders[\"movieID\"] = males_and_females_ratings[\"movie_id\"].values\n",
    "x = np.array(males_and_females_ratings[\"movie_id\"].values)\n",
    "y = np.array(difference_between_genders)\n",
    "df = pd.DataFrame({'movieID':x, 'res':y})\n",
    "df.sort_values('res', inplace=True, ascending=False)\n",
    "print('head')\n",
    "print(df.head(5))\n",
    "\n",
    "print(' tail')\n",
    "print(df.tail(5))\n",
    "\n",
    "print(' mean')\n",
    "print(df['res'].mean())"
   ]
  },
  {
   "cell_type": "code",
   "execution_count": 40,
   "metadata": {
    "collapsed": false
   },
   "outputs": [],
   "source": [
    "import operator\n",
    "m_cols = ['unknown','Action','Adventure','Animation','Childrens','Comedy',\n",
    "          'Crime','Documentary','Drama','Fantasy','Film-Noir','Horror','Musical','Mystery','Romance','Sci-Fi',\n",
    "        'Thriller','War','Western']\n",
    "genres_count = {}\n",
    "for g in m_cols:\n",
    "    count = 0\n",
    "    genre_movies = data[g] == 1\n",
    "    genres_count[g] = data[genre_movies].shape[0]\n",
    "genres_count_list = sorted(genres_count.items(), key=operator.itemgetter(1),reverse=True)"
   ]
  },
  {
   "cell_type": "code",
   "execution_count": 41,
   "metadata": {
    "collapsed": false
   },
   "outputs": [
    {
     "data": {
      "image/png": "[encoded data removed]",
      "text/plain": [
       "<matplotlib.figure.Figure at 0x1bfed2e8fd0>"
      ]
     },
     "metadata": {},
     "output_type": "display_data"
    }
   ],
   "source": [
    "fig = plt.figure(1, figsize=(18,13))\n",
    "ax2 = fig.add_subplot(2,1,2)\n",
    "y_axis = [genre[1] for genre in genres_count_list]\n",
    "x_axis = [i for i in range(len(genres_count))]\n",
    "x_label = [genre[0] for genre in genres_count_list]\n",
    "plt.xticks(rotation=85, fontsize = 15)\n",
    "plt.yticks(fontsize = 15)\n",
    "plt.xticks(x_axis, x_label)\n",
    "plt.ylabel(\"No. of occurences\", fontsize = 24, labelpad = 0)\n",
    "ax2.bar(x_axis, y_axis, align = 'center', color='r')\n",
    "plt.title(\"Popularity of Genres in Highly Rated Movies\",bbox={'facecolor':'k', 'pad':5},color='w',fontsize = 30)\n",
    "plt.show()"
   ]
  },
  {
   "cell_type": "markdown",
   "metadata": {
    "colab_type": "text",
    "id": "cZsHirou-Mob"
   },
   "source": [
    "**The user and item id for embedding should start from 0. Update ids and save to file **"
   ]
  },
  {
   "cell_type": "code",
   "execution_count": 0,
   "metadata": {
    "colab": {
     "autoexec": {
      "startup": false,
      "wait_interval": 0.0
     }
    },
    "colab_type": "code",
    "collapsed": true,
    "id": "WLCe3LSG-Mob"
   },
   "outputs": [],
   "source": []
  },
  {
   "cell_type": "code",
   "execution_count": 7,
   "metadata": {
    "colab": {
     "autoexec": {
      "startup": false,
      "wait_interval": 0.0
     },
     "base_uri": "https://localhost:8080/",
     "height": 34.0
    },
    "colab_type": "code",
    "collapsed": false,
    "executionInfo": {
     "elapsed": 665.0,
     "status": "ok",
     "timestamp": 1.532808041643E12,
     "user": {
      "displayName": "Ran Tsur",
      "photoUrl": "//lh3.googleusercontent.com/-pkQ4mq31yyM/AAAAAAAAAAI/AAAAAAAAABg/OJrKb1aE-5Q/s50-c-k-no/photo.jpg",
      "userId": "106754954225433138332"
     },
     "user_tz": -180.0
    },
    "id": "WFqnpH0gt3B2",
    "outputId": "9ae2e091-9dc6-4b45-d3c3-fe32b69b40dd"
   },
   "outputs": [
    {
     "name": "stdout",
     "output_type": "stream",
     "text": [
      "Max user id: 943    Max movie id: 1682\n"
     ]
    }
   ],
   "source": []
  }
 ],
 "metadata": {
  "colab": {
   "collapsed_sections": [],
   "default_view": {},
   "name": "Ass3-ran&mor.ipynb",
   "provenance": [
    {
     "file_id": "1_ctWj6DREsiYqZ2ZLIgetwq2UegHe8kn",
     "timestamp": 1.53012070839E12
    }
   ],
   "version": "0.3.2",
   "views": {}
  },
  "kernelspec": {
   "display_name": "Python 3",
   "language": "python",
   "name": "python3"
  },
  "language_info": {
   "codemirror_mode": {
    "name": "ipython",
    "version": 3
   },
   "file_extension": ".py",
   "mimetype": "text/x-python",
   "name": "python",
   "nbconvert_exporter": "python",
   "pygments_lexer": "ipython3",
   "version": "3.6.0"
  }
 },
 "nbformat": 4,
 "nbformat_minor": 0
}
